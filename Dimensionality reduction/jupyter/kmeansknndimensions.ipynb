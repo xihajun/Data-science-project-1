{
 "cells": [
  {
   "cell_type": "code",
   "execution_count": 1,
   "metadata": {},
   "outputs": [],
   "source": [
    "import pandas as pd\n",
    "import numpy as np\n",
    "from time import time\n",
    "import warnings\n",
    "warnings.filterwarnings(\"ignore\")"
   ]
  },
  {
   "cell_type": "code",
   "execution_count": 2,
   "metadata": {},
   "outputs": [],
   "source": [
    "col_names = [\"duration\",\"protocol_type\",\"service\",\"flag\",\"src_bytes\",\n",
    "    \"dst_bytes\",\"land\",\"wrong_fragment\",\"urgent\",\"hot\",\"num_failed_logins\",\n",
    "    \"logged_in\",\"num_compromised\",\"root_shell\",\"su_attempted\",\"num_root\",\n",
    "    \"num_file_creations\",\"num_shells\",\"num_access_files\",\"num_outbound_cmds\",\n",
    "    \"is_host_login\",\"is_guest_login\",\"count\",\"srv_count\",\"serror_rate\",\n",
    "    \"srv_serror_rate\",\"rerror_rate\",\"srv_rerror_rate\",\"same_srv_rate\",\n",
    "    \"diff_srv_rate\",\"srv_diff_host_rate\",\"dst_host_count\",\"dst_host_srv_count\",\n",
    "    \"dst_host_same_srv_rate\",\"dst_host_diff_srv_rate\",\"dst_host_same_src_port_rate\",\n",
    "    \"dst_host_srv_diff_host_rate\",\"dst_host_serror_rate\",\"dst_host_srv_serror_rate\",\n",
    "    \"dst_host_rerror_rate\",\"dst_host_srv_rerror_rate\",\"label\"]\n",
    "\n",
    "raw_data = pd.read_csv(\"./kddcup.data_10_percent_corrected\", header=None, names = col_names)\n",
    "raw_data['label'] = raw_data['label'].replace(['back.', 'buffer_overflow.', 'ftp_write.', 'guess_passwd.', 'imap.', 'ipsweep.', 'land.', 'loadmodule.', 'multihop.', 'neptune.', 'nmap.', 'perl.', 'phf.', 'pod.', 'portsweep.', 'rootkit.', 'satan.', 'smurf.', 'spy.', 'teardrop.', 'warezclient.', 'warezmaster.'], 'attack')\n",
    "data = raw_data"
   ]
  },
  {
   "cell_type": "code",
   "execution_count": 3,
   "metadata": {},
   "outputs": [],
   "source": [
    "def categorical_converter(data):\n",
    "    '''manually encode the three categorical columns into ordinals'''\n",
    "    cols=['protocol_type','service','flag','label']\n",
    "    for i in cols:\n",
    "        data[i] = le.fit_transform(data[i])\n",
    "    data = hot.fit_transform(data.loc[:,cols])"
   ]
  },
  {
   "cell_type": "code",
   "execution_count": 4,
   "metadata": {},
   "outputs": [],
   "source": [
    "from sklearn.preprocessing import LabelEncoder\n",
    "from sklearn.preprocessing import OneHotEncoder\n",
    "le = LabelEncoder()\n",
    "hot = OneHotEncoder(sparse=True, handle_unknown='ignore')\n",
    "categorical_converter(raw_data)"
   ]
  },
  {
   "cell_type": "code",
   "execution_count": 5,
   "metadata": {},
   "outputs": [
    {
     "name": "stdout",
     "output_type": "stream",
     "text": [
      "service\n",
      "src_bytes\n",
      "count\n",
      "dst_host_same_src_port_rate\n"
     ]
    }
   ],
   "source": [
    "from interruptingcow import timeout\n",
    "dimensions = []\n",
    "for i in range(42):\n",
    "    raw_data = data[[col_names[i],'label']]\n",
    "    features= raw_data.iloc[:,:raw_data.shape[1]]\n",
    "    labels= raw_data.iloc[:,raw_data.shape[1]-1:]\n",
    "    labels= labels.values.ravel() # this becomes a 'horizontal' array\n",
    "    \n",
    "    #train_test_split\n",
    "    from sklearn.model_selection import train_test_split\n",
    "    df= pd.DataFrame(features)\n",
    "    X_train, X_test, y_train, y_test = train_test_split(df, labels, train_size=0.5, test_size=0.5)\n",
    "    X_train_features= X_train.iloc[:,:raw_data.shape[1]-1]\n",
    "    \n",
    "    #normalization\n",
    "    from sklearn.preprocessing import StandardScaler\n",
    "\n",
    "    scaler = StandardScaler().fit(X_train_features)\n",
    "    #normalization of training dataset \n",
    "    X_train.iloc[:,:raw_data.shape[1]-1] = scaler.transform(X_train.iloc[:,:raw_data.shape[1]-1])\n",
    "    X_train_transformed = pd.DataFrame(X_train)\n",
    "    X = X_train_transformed[X_train_transformed.label==1]\n",
    "    X1 = X.iloc[:,:raw_data.shape[1]-1]\n",
    "    X = X_train_transformed[X_train_transformed.label==0]\n",
    "    X0 = X.iloc[:,:raw_data.shape[1]-1]\n",
    "    from sklearn.cluster import KMeans\n",
    "    try:\n",
    "        with timeout(3, exception = RuntimeError):\n",
    "            numberofclasses = 8\n",
    "            kmeans1 = KMeans(n_clusters=numberofclasses, random_state=0).fit(X1)\n",
    "            kmeans0 = KMeans(n_clusters=numberofclasses, random_state=0).fit(X0)\n",
    "    except:\n",
    "        continue\n",
    "    label_train = np.append(np.zeros(numberofclasses)+1,np.zeros(numberofclasses))\n",
    "    data_train = np.append(kmeans1.cluster_centers_,kmeans0.cluster_centers_,axis=0)\n",
    "\n",
    "    #1 nearest neighbor classification\n",
    "    from sklearn.neighbors import KNeighborsClassifier \n",
    "\n",
    "    knn = KNeighborsClassifier(n_neighbors=1,weights = 'distance')\n",
    "    knn.fit(data_train, label_train)\n",
    "    score1=knn.score(X_train.iloc[:,:raw_data.shape[1]-1],X_train.iloc[:,raw_data.shape[1]-1:],sample_weight=None)\n",
    "    score2=knn.score(X_test.iloc[:,:raw_data.shape[1]-1],X_test.iloc[:,raw_data.shape[1]-1:],sample_weight=None)\n",
    "    if (score1+score2)/2>0.85:\n",
    "        print(col_names[i])\n",
    "        dimensions.append(col_names[i])"
   ]
  },
  {
   "cell_type": "markdown",
   "metadata": {},
   "source": [
    "Compared to the dimensions reduced by filtering standard divation 'duration','src_bytes','dst_bytes','num_compromised','num_root','count','srv_count','dst_host_count','dst_host_srv_count','label'"
   ]
  },
  {
   "cell_type": "code",
   "execution_count": 6,
   "metadata": {},
   "outputs": [
    {
     "data": {
      "text/plain": [
       "['service', 'src_bytes', 'count', 'dst_host_same_src_port_rate']"
      ]
     },
     "execution_count": 6,
     "metadata": {},
     "output_type": "execute_result"
    }
   ],
   "source": [
    "dimensions"
   ]
  },
  {
   "cell_type": "code",
   "execution_count": 7,
   "metadata": {},
   "outputs": [],
   "source": [
    "#raw_data = data[['protocol_type', 'service', 'flag', 'src_bytes', 'dst_bytes', 'root_shell', 'count', 'srv_count', 'serror_rate', 'srv_serror_rate', 'dst_host_count', 'dst_host_srv_count', 'dst_host_same_src_port_rate','label']]\n",
    "raw_data = data[['service', 'src_bytes', 'count', 'dst_host_same_src_port_rate','label']]\n",
    "features= raw_data.iloc[:,:raw_data.shape[1]]\n",
    "labels= raw_data.iloc[:,raw_data.shape[1]-1:]\n",
    "labels= labels.values.ravel() # this becomes a 'horizontal' array\n",
    "\n",
    "#train_test_split\n",
    "from sklearn.model_selection import train_test_split\n",
    "df= pd.DataFrame(features)\n",
    "X_train, X_test, y_train, y_test = train_test_split(df, labels, train_size=0.5, test_size=0.5)\n",
    "X_train_features= X_train.iloc[:,:raw_data.shape[1]-1]\n",
    "\n",
    "#normalization\n",
    "from sklearn.preprocessing import StandardScaler\n",
    "\n",
    "scaler = StandardScaler().fit(X_train_features)\n",
    "#normalization of training dataset \n",
    "X_train.iloc[:,:raw_data.shape[1]-1] = scaler.transform(X_train.iloc[:,:raw_data.shape[1]-1])\n",
    "X_train_transformed = pd.DataFrame(X_train)\n",
    "X = X_train_transformed[X_train_transformed.label==1]\n",
    "X1 = X.iloc[:,:raw_data.shape[1]-1]\n",
    "X = X_train_transformed[X_train_transformed.label==0]\n",
    "X0 = X.iloc[:,:raw_data.shape[1]-1]\n",
    "from sklearn.cluster import KMeans\n",
    "numberofclasses = 10\n",
    "kmeans1 = KMeans(n_clusters=numberofclasses, random_state=0).fit(X1)\n",
    "kmeans0 = KMeans(n_clusters=numberofclasses, random_state=0).fit(X0)\n",
    "\n",
    "label_train = np.append(np.zeros(numberofclasses)+1,np.zeros(numberofclasses))\n",
    "data_train = np.append(kmeans1.cluster_centers_,kmeans0.cluster_centers_,axis=0)\n",
    "\n",
    "#1 nearest neighbor classification\n",
    "from sklearn.neighbors import KNeighborsClassifier \n",
    "\n",
    "knn = KNeighborsClassifier(n_neighbors=1,weights = 'distance')\n",
    "knn.fit(data_train, label_train)\n",
    "score1=knn.score(X_train.iloc[:,:raw_data.shape[1]-1],X_train.iloc[:,raw_data.shape[1]-1:],sample_weight=None)\n",
    "score2=knn.score(X_test.iloc[:,:raw_data.shape[1]-1],X_test.iloc[:,raw_data.shape[1]-1:],sample_weight=None)"
   ]
  },
  {
   "cell_type": "code",
   "execution_count": 8,
   "metadata": {},
   "outputs": [
    {
     "name": "stdout",
     "output_type": "stream",
     "text": [
      "0.9673090158293186 0.8838634716672537\n"
     ]
    }
   ],
   "source": [
    "print(score1,score2)"
   ]
  }
 ],
 "metadata": {
  "kernelspec": {
   "display_name": "Python 3",
   "language": "python",
   "name": "python3"
  },
  "language_info": {
   "codemirror_mode": {
    "name": "ipython",
    "version": 3
   },
   "file_extension": ".py",
   "mimetype": "text/x-python",
   "name": "python",
   "nbconvert_exporter": "python",
   "pygments_lexer": "ipython3",
   "version": "3.6.5"
  }
 },
 "nbformat": 4,
 "nbformat_minor": 2
}
